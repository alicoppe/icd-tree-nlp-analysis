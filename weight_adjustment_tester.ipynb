{
 "cells": [
  {
   "cell_type": "code",
   "execution_count": 1,
   "metadata": {},
   "outputs": [],
   "source": [
    "import torch\n",
    "import numpy as np\n",
    "from scipy.stats import spearmanr\n",
    "from sklearn.model_selection import train_test_split\n",
    "from tqdm import tqdm\n",
    "\n",
    "import pandas as pd\n",
    "import pickle\n",
    "\n",
    "from scripts.icd_tree import ICDTree\n",
    "from scripts.data import create_batch_input_and_labels, get_squared_distances, calculate_spearman_correlations, evaluate_full_correlations, evaluate_correlation, locally_shuffle\n",
    "from scripts.probe import TwoWordPSDProbeOriginal\n",
    "from scripts.mc_search import train_weights_mc"
   ]
  },
  {
   "cell_type": "code",
   "execution_count": 8,
   "metadata": {},
   "outputs": [],
   "source": [
    "# Load each dictionary\n",
    "with open(\"base_BERT_dict.pkl\", \"rb\") as file:\n",
    "    base_BERT_dict = pickle.load(file)\n",
    "\n",
    "with open(\"clinical_BERT_dict.pkl\", \"rb\") as file:\n",
    "    clinical_BERT_dict = pickle.load(file)\n",
    "\n",
    "with open(\"random_BERT_dict.pkl\", \"rb\") as file:\n",
    "    random_BERT_dict = pickle.load(file)"
   ]
  },
  {
   "cell_type": "markdown",
   "metadata": {},
   "source": [
    "# Initial Correlation Testing"
   ]
  },
  {
   "cell_type": "code",
   "execution_count": 72,
   "metadata": {},
   "outputs": [
    {
     "name": "stderr",
     "output_type": "stream",
     "text": [
      "Evaluating batches: 100%|██████████| 4078/4078 [01:14<00:00, 54.64it/s]\n"
     ]
    },
    {
     "name": "stdout",
     "output_type": "stream",
     "text": [
      "Base BERT model Spearman correlation: 0.6446892730737822\n"
     ]
    },
    {
     "name": "stderr",
     "output_type": "stream",
     "text": [
      "Evaluating batches: 100%|██████████| 4078/4078 [01:18<00:00, 52.16it/s]\n"
     ]
    },
    {
     "name": "stdout",
     "output_type": "stream",
     "text": [
      "Clinical BERT model Spearman correlation: 0.6183534112640962\n"
     ]
    },
    {
     "name": "stderr",
     "output_type": "stream",
     "text": [
      "Evaluating batches: 100%|██████████| 4078/4078 [01:17<00:00, 52.37it/s]\n"
     ]
    },
    {
     "name": "stdout",
     "output_type": "stream",
     "text": [
      "Random BERT model Spearman correlation: 0.5901647156823182\n"
     ]
    }
   ],
   "source": [
    "file_path = \"ICD10.csv\"\n",
    "df_tree = pd.read_csv(file_path, header=0)\n",
    "\n",
    "df_codes = df_tree[df_tree['selectable'] == 'Y']\n",
    "icd_codes = df_codes['coding'].tolist()\n",
    "\n",
    "icd_tree = ICDTree(df_tree)\n",
    "\n",
    "base_corr = evaluate_full_correlations(icd_tree, base_BERT_dict, icd_codes, batch_size = 4, window_size = None)\n",
    "print(f'Base BERT model Spearman correlation: {base_corr}')\n",
    "\n",
    "clinical_corr = evaluate_full_correlations(icd_tree, clinical_BERT_dict, icd_codes, batch_size = 4, window_size = None)\n",
    "print(f'Clinical BERT model Spearman correlation: {clinical_corr}')\n",
    "\n",
    "random_corr = evaluate_full_correlations(icd_tree, random_BERT_dict, icd_codes, batch_size = 4, window_size = None)\n",
    "print(f'Random BERT model Spearman correlation: {random_corr}')"
   ]
  },
  {
   "cell_type": "markdown",
   "metadata": {},
   "source": [
    "# Depth Weight Adjustments"
   ]
  },
  {
   "cell_type": "code",
   "execution_count": 135,
   "metadata": {},
   "outputs": [
    {
     "name": "stdout",
     "output_type": "stream",
     "text": [
      "Benchmark Correlation on Test Set with Initial Weights [1. 1. 1. 1. 1.]:\n"
     ]
    },
    {
     "name": "stderr",
     "output_type": "stream",
     "text": [
      "Evaluating batches: 100%|██████████| 327/327 [00:47<00:00,  6.90it/s]\n"
     ]
    },
    {
     "name": "stdout",
     "output_type": "stream",
     "text": [
      "Test set correlation: 0.44423603047947635\n",
      "\n",
      "-----------------------------------------------------------------\n",
      "No Improvement Count --> 0\n",
      "\n",
      "Epoch 1, Batch Group 1 to 20:\n",
      "  Before update: weights = [1. 1. 1. 1. 1.], average correlation = 0.5064704414341519\n",
      "Best correlation in group: 0.5066952911586535, Best weights: [0.81409428 0.89711459 1.07936857 0.86034168 0.95873829]\n",
      "Largest difference in average correlation amongst weights groups: 0.0009851441748405243\n",
      "------------ Batch performance did not improve --------------\n",
      "Test correlation did not improve\n",
      "\n",
      "-----------------------------------------------------------------\n",
      "No Improvement Count --> 1\n",
      "\n",
      "Epoch 1, Batch Group 21 to 40:\n",
      "  Before update: weights = [1. 1. 1. 1. 1.], average correlation = 0.42594884715955084\n",
      "Best correlation in group: 0.4279721488279117, Best weights: [0.93655336 0.91218762 0.831785   1.02795174 0.87211452]\n",
      "Largest difference in average correlation amongst weights groups: 0.004627168631542833\n",
      "Batch performance improved with weights: [0.93655336 0.91218762 0.831785   1.02795174 0.87211452]\"\n",
      "Changing weights...\n",
      "Evaluating on the test set...\n"
     ]
    },
    {
     "name": "stderr",
     "output_type": "stream",
     "text": [
      "Evaluating batches: 100%|██████████| 327/327 [00:46<00:00,  7.00it/s]\n"
     ]
    },
    {
     "name": "stdout",
     "output_type": "stream",
     "text": [
      "Test set spearman correlation improved from 0.44423603047947635 to 0.4447759381186618\n",
      "\n",
      "-----------------------------------------------------------------\n",
      "No Improvement Count --> 0\n",
      "\n",
      "Epoch 1, Batch Group 41 to 60:\n",
      "  Before update: weights = [0.93655336 0.91218762 0.831785   1.02795174 0.87211452], average correlation = 0.4800988843808409\n",
      "Best correlation in group: 0.48145043273437793, Best weights: [0.99892083 0.76917229 0.96234256 0.99935608 0.79410126]\n",
      "Largest difference in average correlation amongst weights groups: 0.0013515483535370132\n",
      "Batch performance improved with weights: [0.99892083 0.76917229 0.96234256 0.99935608 0.79410126]\"\n",
      "Changing weights...\n",
      "Evaluating on the test set...\n"
     ]
    },
    {
     "name": "stderr",
     "output_type": "stream",
     "text": [
      "Evaluating batches: 100%|██████████| 327/327 [00:46<00:00,  7.03it/s]\n"
     ]
    },
    {
     "name": "stdout",
     "output_type": "stream",
     "text": [
      "Test correlation did not improve\n",
      "\n",
      "-----------------------------------------------------------------\n",
      "No Improvement Count --> 1\n",
      "\n",
      "Epoch 1, Batch Group 61 to 80:\n",
      "  Before update: weights = [0.99892083 0.76917229 0.96234256 0.99935608 0.79410126], average correlation = 0.4824464610694796\n",
      "Best correlation in group: 0.4850166471559416, Best weights: [1.12534118 0.85344232 0.88999931 1.17562491 0.7169454 ]\n",
      "Largest difference in average correlation amongst weights groups: 0.002570186086462034\n",
      "Batch performance improved with weights: [1.12534118 0.85344232 0.88999931 1.17562491 0.7169454 ]\"\n",
      "Changing weights...\n",
      "Evaluating on the test set...\n"
     ]
    },
    {
     "name": "stderr",
     "output_type": "stream",
     "text": [
      "Evaluating batches: 100%|██████████| 327/327 [00:46<00:00,  7.10it/s]\n"
     ]
    },
    {
     "name": "stdout",
     "output_type": "stream",
     "text": [
      "Test set spearman correlation improved from 0.4447759381186618 to 0.4453728962085087\n",
      "\n",
      "-----------------------------------------------------------------\n",
      "No Improvement Count --> 0\n",
      "\n",
      "Epoch 1, Batch Group 81 to 100:\n",
      "  Before update: weights = [1.12534118 0.85344232 0.88999931 1.17562491 0.7169454 ], average correlation = 0.47663811018133434\n",
      "Best correlation in group: 0.47663811018133434, Best weights: [1.23669347 0.78244739 0.74632947 1.11616384 0.74976216]\n",
      "Largest difference in average correlation amongst weights groups: 0.0\n",
      "------------ Batch performance did not improve --------------\n",
      "Test correlation did not improve\n",
      "\n",
      "-----------------------------------------------------------------\n",
      "No Improvement Count --> 1\n",
      "\n",
      "Epoch 1, Batch Group 101 to 120:\n",
      "  Before update: weights = [1.12534118 0.85344232 0.88999931 1.17562491 0.7169454 ], average correlation = 0.4354983618700781\n",
      "Best correlation in group: 0.4354983618700781, Best weights: [0.95601634 0.71975292 0.80660976 1.20251364 0.59808663]\n",
      "Largest difference in average correlation amongst weights groups: 0.0011501118379193542\n",
      "------------ Batch performance did not improve --------------\n",
      "Test correlation did not improve\n",
      "\n",
      "-----------------------------------------------------------------\n",
      "No Improvement Count --> 2\n",
      "\n",
      "Epoch 1, Batch Group 121 to 140:\n",
      "  Before update: weights = [1.12534118 0.85344232 0.88999931 1.17562491 0.7169454 ], average correlation = 0.5026010030417105\n",
      "Best correlation in group: 0.5026010030417105, Best weights: [0.96439824 0.68802695 1.0256953  1.18410482 0.51717096]\n",
      "Largest difference in average correlation amongst weights groups: 0.005852694114933721\n",
      "------------ Batch performance did not improve --------------\n",
      "Test correlation did not improve\n",
      "\n",
      "-----------------------------------------------------------------\n",
      "No Improvement Count --> 3\n",
      "\n",
      "Epoch 1, Batch Group 141 to 160:\n",
      "  Before update: weights = [1.12534118 0.85344232 0.88999931 1.17562491 0.7169454 ], average correlation = 0.4492748169856073\n",
      "Best correlation in group: 0.45111436661026494, Best weights: [0.97250136 0.87772913 1.02915484 1.08754474 0.88636447]\n",
      "Largest difference in average correlation amongst weights groups: 0.0030758060928415265\n",
      "Batch performance improved with weights: [0.97250136 0.87772913 1.02915484 1.08754474 0.88636447]\"\n",
      "Changing weights...\n",
      "Evaluating on the test set...\n"
     ]
    },
    {
     "name": "stderr",
     "output_type": "stream",
     "text": [
      "Evaluating batches: 100%|██████████| 327/327 [00:46<00:00,  7.06it/s]\n"
     ]
    },
    {
     "name": "stdout",
     "output_type": "stream",
     "text": [
      "Test correlation did not improve\n",
      "\n",
      "-----------------------------------------------------------------\n",
      "No Improvement Count --> 4\n",
      "\n",
      "Epoch 1, Batch Group 161 to 180:\n",
      "  Before update: weights = [0.97250136 0.87772913 1.02915484 1.08754474 0.88636447], average correlation = 0.3852124540207381\n",
      "Best correlation in group: 0.389156870978272, Best weights: [0.93415143 1.07409878 0.87710433 1.07038336 0.71817548]\n",
      "Largest difference in average correlation amongst weights groups: 0.005931121226384672\n",
      "Batch performance improved with weights: [0.93415143 1.07409878 0.87710433 1.07038336 0.71817548]\"\n",
      "Changing weights...\n",
      "Evaluating on the test set...\n"
     ]
    },
    {
     "name": "stderr",
     "output_type": "stream",
     "text": [
      "Evaluating batches: 100%|██████████| 327/327 [00:47<00:00,  6.90it/s]\n"
     ]
    },
    {
     "name": "stdout",
     "output_type": "stream",
     "text": [
      "Test correlation did not improve\n",
      "\n",
      "-----------------------------------------------------------------\n",
      "No Improvement Count --> 5\n",
      "\n",
      "Epoch 1, Batch Group 181 to 200:\n",
      "  Before update: weights = [0.93415143 1.07409878 0.87710433 1.07038336 0.71817548], average correlation = 0.386278572525275\n",
      "Best correlation in group: 0.386278572525275, Best weights: [1.10998786 1.24705996 0.89338376 1.04750454 0.65866028]\n",
      "Largest difference in average correlation amongst weights groups: 0.0\n",
      "------------ Batch performance did not improve --------------\n",
      "Test correlation did not improve\n",
      "\n",
      "-----------------------------------------------------------------\n",
      "No Improvement Count --> 6\n",
      "\n",
      "Epoch 1, Batch Group 201 to 220:\n",
      "  Before update: weights = [0.93415143 1.07409878 0.87710433 1.07038336 0.71817548], average correlation = 0.4495400827470628\n",
      "Best correlation in group: 0.44958198038164604, Best weights: [0.88368433 1.03924905 0.98558076 1.17949447 0.60472918]\n",
      "Largest difference in average correlation amongst weights groups: 0.005223222718675202\n",
      "------------ Batch performance did not improve --------------\n",
      "Test correlation did not improve\n",
      "\n",
      "-----------------------------------------------------------------\n",
      "No Improvement Count --> 7\n",
      "\n",
      "Epoch 1, Batch Group 221 to 240:\n",
      "  Before update: weights = [0.93415143 1.07409878 0.87710433 1.07038336 0.71817548], average correlation = 0.49021989503208835\n",
      "Best correlation in group: 0.49021989503208835, Best weights: [0.85339818 1.19028357 0.76021984 0.92844145 0.68301098]\n",
      "Largest difference in average correlation amongst weights groups: 0.0011616884469945465\n",
      "------------ Batch performance did not improve --------------\n",
      "Test correlation did not improve\n",
      "\n",
      "-----------------------------------------------------------------\n",
      "No Improvement Count --> 8\n",
      "\n",
      "Epoch 1, Batch Group 241 to 260:\n",
      "  Before update: weights = [0.93415143 1.07409878 0.87710433 1.07038336 0.71817548], average correlation = 0.4814929037943608\n",
      "Best correlation in group: 0.4814929037943608, Best weights: [0.92035108 1.24082724 0.92184008 1.07123775 0.90564971]\n",
      "Largest difference in average correlation amongst weights groups: 0.0003706370090988953\n",
      "------------ Batch performance did not improve --------------\n",
      "Test correlation did not improve\n",
      "\n",
      "-----------------------------------------------------------------\n",
      "No Improvement Count --> 9\n",
      "\n",
      "Epoch 1, Batch Group 261 to 280:\n",
      "  Before update: weights = [0.93415143 1.07409878 0.87710433 1.07038336 0.71817548], average correlation = 0.44845437590384163\n",
      "Best correlation in group: 0.44845437590384163, Best weights: [0.82449148 1.21622185 0.71180822 1.14094581 0.6220215 ]\n",
      "Largest difference in average correlation amongst weights groups: 0.0011029139390019704\n",
      "------------ Batch performance did not improve --------------\n",
      "Test correlation did not improve\n",
      "\n",
      "-----------------------------------------------------------------\n",
      "No Improvement Count --> 10\n",
      "\n",
      "Epoch 1, Batch Group 281 to 300:\n",
      "  Before update: weights = [0.93415143 1.07409878 0.87710433 1.07038336 0.71817548], average correlation = 0.5076808187321574\n",
      "Best correlation in group: 0.5076808187321574, Best weights: [0.77536201 1.16228694 0.9339433  0.94465149 0.89469837]\n",
      "Largest difference in average correlation amongst weights groups: 0.00035468787898984555\n",
      "------------ Batch performance did not improve --------------\n",
      "Test correlation did not improve\n",
      "\n",
      "-----------------------------------------------------------------\n",
      "No Improvement Count --> 11\n",
      "\n",
      "Epoch 1, Batch Group 301 to 320:\n",
      "  Before update: weights = [0.93415143 1.07409878 0.87710433 1.07038336 0.71817548], average correlation = 0.46045060495840523\n",
      "Best correlation in group: 0.46045060495840523, Best weights: [1.02314994 1.20404489 0.88257547 1.17749107 0.85478525]\n",
      "Largest difference in average correlation amongst weights groups: 0.004313522884264398\n",
      "------------ Batch performance did not improve --------------\n",
      "Test correlation did not improve\n",
      "\n",
      "-----------------------------------------------------------------\n",
      "No Improvement Count --> 12\n",
      "\n",
      "Epoch 1, Batch Group 321 to 340:\n",
      "  Before update: weights = [0.93415143 1.07409878 0.87710433 1.07038336 0.71817548], average correlation = 0.4547916879490854\n",
      "Best correlation in group: 0.4547916879490854, Best weights: [1.0454363  1.07965083 0.8385265  1.05824412 0.61255935]\n",
      "Largest difference in average correlation amongst weights groups: 0.006124428485465905\n",
      "------------ Batch performance did not improve --------------\n",
      "Test correlation did not improve\n",
      "\n",
      "-----------------------------------------------------------------\n",
      "No Improvement Count --> 13\n",
      "\n",
      "Epoch 1, Batch Group 341 to 360:\n",
      "  Before update: weights = [0.93415143 1.07409878 0.87710433 1.07038336 0.71817548], average correlation = 0.46471697281405683\n",
      "Best correlation in group: 0.46471697281405683, Best weights: [0.82922826 0.9020826  1.03838392 1.2394307  0.55985096]\n",
      "Largest difference in average correlation amongst weights groups: 0.000865890658153845\n",
      "------------ Batch performance did not improve --------------\n",
      "Test correlation did not improve\n",
      "\n",
      "-----------------------------------------------------------------\n",
      "No Improvement Count --> 14\n",
      "\n",
      "Epoch 1, Batch Group 361 to 380:\n",
      "  Before update: weights = [0.93415143 1.07409878 0.87710433 1.07038336 0.71817548], average correlation = 0.44032557228952107\n",
      "Best correlation in group: 0.44032557228952107, Best weights: [0.81863112 1.12005321 0.90336324 1.25845581 0.84257091]\n",
      "Largest difference in average correlation amongst weights groups: 0.001025558410134464\n",
      "------------ Batch performance did not improve --------------\n",
      "Test correlation did not improve\n",
      "\n",
      "-----------------------------------------------------------------\n",
      "No Improvement Count --> 15\n",
      "\n",
      "Epoch 1, Batch Group 381 to 400:\n",
      "  Before update: weights = [0.93415143 1.07409878 0.87710433 1.07038336 0.71817548], average correlation = 0.4519373657589174\n",
      "Best correlation in group: 0.45224438480453166, Best weights: [0.85436103 0.92531204 0.88180992 1.20015631 0.86576245]\n",
      "Largest difference in average correlation amongst weights groups: 0.0031128250496254006\n",
      "------------ Batch performance did not improve --------------\n",
      "Test correlation did not improve\n",
      "\n",
      "-----------------------------------------------------------------\n",
      "No Improvement Count --> 16\n",
      "\n",
      "Epoch 1, Batch Group 401 to 420:\n",
      "  Before update: weights = [0.93415143 1.07409878 0.87710433 1.07038336 0.71817548], average correlation = 0.5029776552740122\n",
      "Best correlation in group: 0.5029776552740122, Best weights: [1.11454188 1.04175065 1.06850114 1.18680156 0.58649033]\n",
      "Largest difference in average correlation amongst weights groups: 0.0008300918831926074\n",
      "------------ Batch performance did not improve --------------\n",
      "Test correlation did not improve\n",
      "\n",
      "-----------------------------------------------------------------\n",
      "No Improvement Count --> 17\n",
      "\n",
      "Epoch 1, Batch Group 421 to 440:\n",
      "  Before update: weights = [0.93415143 1.07409878 0.87710433 1.07038336 0.71817548], average correlation = 0.47216130250748234\n",
      "Best correlation in group: 0.472658500200086, Best weights: [1.12479487 0.99802966 0.92941789 0.96376214 0.53176536]\n",
      "Largest difference in average correlation amongst weights groups: 0.005655743981623829\n",
      "Batch performance improved with weights: [1.12479487 0.99802966 0.92941789 0.96376214 0.53176536]\"\n",
      "Changing weights...\n",
      "Evaluating on the test set...\n"
     ]
    },
    {
     "name": "stderr",
     "output_type": "stream",
     "text": [
      "Evaluating batches: 100%|██████████| 327/327 [00:46<00:00,  6.97it/s]\n"
     ]
    },
    {
     "name": "stdout",
     "output_type": "stream",
     "text": [
      "Test correlation did not improve\n",
      "\n",
      "-----------------------------------------------------------------\n",
      "No Improvement Count --> 18\n",
      "\n",
      "Epoch 1, Batch Group 441 to 460:\n",
      "  Before update: weights = [1.12479487 0.99802966 0.92941789 0.96376214 0.53176536], average correlation = 0.5292529708032654\n",
      "Best correlation in group: 0.5292529708032654, Best weights: [1.08040297 0.97487261 0.90059658 1.07912215 0.63323877]\n",
      "Largest difference in average correlation amongst weights groups: 0.0\n",
      "------------ Batch performance did not improve --------------\n",
      "Test correlation did not improve\n",
      "\n",
      "-----------------------------------------------------------------\n",
      "No Improvement Count --> 19\n",
      "\n",
      "Epoch 1, Batch Group 461 to 480:\n",
      "  Before update: weights = [1.12479487 0.99802966 0.92941789 0.96376214 0.53176536], average correlation = 0.4254463004547041\n",
      "Best correlation in group: 0.4254463004547041, Best weights: [1.2002789  1.15846577 1.09487031 1.14664031 0.63489794]\n",
      "Largest difference in average correlation amongst weights groups: 0.0\n",
      "------------ Batch performance did not improve --------------\n",
      "Test correlation did not improve\n",
      "\n",
      "-----------------------------------------------------------------\n",
      "No Improvement Count --> 20\n",
      "\n",
      "Epoch 1, Batch Group 481 to 500:\n",
      "  Before update: weights = [1.12479487 0.99802966 0.92941789 0.96376214 0.53176536], average correlation = 0.4663033719058106\n",
      "Best correlation in group: 0.46652362941170067, Best weights: [1.04768778 0.85276709 1.12614034 1.08100177 0.49275367]\n",
      "Largest difference in average correlation amongst weights groups: 0.00022025750589005355\n",
      "------------ Batch performance did not improve --------------\n",
      "Test correlation did not improve\n",
      "\n",
      "-----------------------------------------------------------------\n",
      "No Improvement Count --> 21\n",
      "\n",
      "Epoch 1, Batch Group 501 to 520:\n",
      "  Before update: weights = [1.12479487 0.99802966 0.92941789 0.96376214 0.53176536], average correlation = 0.4981893693136625\n",
      "Best correlation in group: 0.4981893693136625, Best weights: [1.05805149 1.1470092  0.88980621 1.08177855 0.39022738]\n",
      "Largest difference in average correlation amongst weights groups: 0.002582167711441319\n",
      "------------ Batch performance did not improve --------------\n",
      "Test correlation did not improve\n",
      "\n",
      "-----------------------------------------------------------------\n",
      "No Improvement Count --> 22\n",
      "\n",
      "Epoch 1, Batch Group 521 to 540:\n",
      "  Before update: weights = [1.12479487 0.99802966 0.92941789 0.96376214 0.53176536], average correlation = 0.5486319082753996\n",
      "Best correlation in group: 0.5486319082753996, Best weights: [1.25887695 0.93884655 0.84144769 1.07011447 0.49118475]\n",
      "Largest difference in average correlation amongst weights groups: 0.0\n",
      "------------ Batch performance did not improve --------------\n",
      "Test correlation did not improve\n",
      "\n",
      "-----------------------------------------------------------------\n",
      "No Improvement Count --> 23\n",
      "\n",
      "Epoch 1, Batch Group 541 to 560:\n",
      "  Before update: weights = [1.12479487 0.99802966 0.92941789 0.96376214 0.53176536], average correlation = 0.48146145192489265\n",
      "Best correlation in group: 0.48146145192489265, Best weights: [1.27730873 1.19668935 0.73985746 1.03199927 0.65243201]\n",
      "Largest difference in average correlation amongst weights groups: 0.000501985334331323\n",
      "------------ Batch performance did not improve --------------\n",
      "Test correlation did not improve\n",
      "\n",
      "-----------------------------------------------------------------\n",
      "No Improvement Count --> 24\n",
      "\n",
      "Epoch 1, Batch Group 561 to 580:\n",
      "  Before update: weights = [1.12479487 0.99802966 0.92941789 0.96376214 0.53176536], average correlation = 0.4788934126739141\n",
      "Best correlation in group: 0.4788934126739141, Best weights: [1.19506603 1.18297043 1.00332502 1.06091686 0.47865319]\n",
      "Largest difference in average correlation amongst weights groups: 0.0\n",
      "------------ Batch performance did not improve --------------\n",
      "Test correlation did not improve\n",
      "\n",
      "-----------------------------------------------------------------\n",
      "No Improvement Count --> 25\n",
      "\n",
      "Epoch 1, Batch Group 581 to 600:\n",
      "  Before update: weights = [1.12479487 0.99802966 0.92941789 0.96376214 0.53176536], average correlation = 0.3849474003549133\n",
      "Best correlation in group: 0.3852111905225949, Best weights: [0.92578179 0.85289889 0.89779841 0.92187504 0.36936719]\n",
      "Largest difference in average correlation amongst weights groups: 0.0007021865416135809\n",
      "------------ Batch performance did not improve --------------\n",
      "Test correlation did not improve\n",
      "Early stopping triggered. No improvement.\n"
     ]
    }
   ],
   "source": [
    "file_path = \"ICD10.csv\"\n",
    "df_tree = pd.read_csv(file_path, header=0)\n",
    "\n",
    "df_codes = df_tree[df_tree['selectable'] == 'Y']\n",
    "icd_codes = df_codes['coding'].tolist()\n",
    "\n",
    "icd_tree = ICDTree(df_tree)\n",
    "\n",
    "icd_codes = locally_shuffle(icd_codes, 100)\n",
    "icd_codes_train = icd_codes[:int(len(icd_codes)*0.8)]\n",
    "icd_codes_test = icd_codes[int(len(icd_codes)*0.8):]\n",
    "\n",
    "best_weights, train_correlations, test_correlations, max_diff = train_weights_mc(icd_tree, \n",
    "                                                                    base_BERT_dict, \n",
    "                                                                    icd_codes_train, \n",
    "                                                                    icd_codes_test,\n",
    "                                                                    batch_size=10,\n",
    "                                                                    max_epochs=1,\n",
    "                                                                    search_radius=0.2,\n",
    "                                                                    patience=25,\n",
    "                                                                    initial_weights=[1, 1, 1, 1, 1],\n",
    "                                                                    min_weight=0.05,\n",
    "                                                                    num_samples=10,\n",
    "                                                                    num_batches_to_average=20)"
   ]
  },
  {
   "cell_type": "markdown",
   "metadata": {},
   "source": [
    "# Now compare the correlation of the optimized weights with normal weights on the test set:"
   ]
  },
  {
   "cell_type": "code",
   "execution_count": 136,
   "metadata": {},
   "outputs": [
    {
     "data": {
      "text/plain": [
       "[0.44423603047947635,\n",
       " 0.44423603047947635,\n",
       " 0.4447759381186618,\n",
       " 0.44379902980726527,\n",
       " 0.4453728962085087,\n",
       " 0.4453728962085087,\n",
       " 0.4453728962085087,\n",
       " 0.4453728962085087,\n",
       " 0.44379902980726527,\n",
       " 0.44498680654028466,\n",
       " 0.4453728962085087,\n",
       " 0.4453728962085087,\n",
       " 0.4453728962085087,\n",
       " 0.4453728962085087,\n",
       " 0.4453728962085087,\n",
       " 0.4453728962085087,\n",
       " 0.4453728962085087,\n",
       " 0.4453728962085087,\n",
       " 0.4453728962085087,\n",
       " 0.4453728962085087,\n",
       " 0.4453728962085087,\n",
       " 0.4453728962085087,\n",
       " 0.44498680654028466,\n",
       " 0.4453728962085087,\n",
       " 0.4453728962085087,\n",
       " 0.4453728962085087,\n",
       " 0.4453728962085087,\n",
       " 0.4453728962085087,\n",
       " 0.4453728962085087,\n",
       " 0.4453728962085087,\n",
       " 0.4453728962085087]"
      ]
     },
     "execution_count": 136,
     "metadata": {},
     "output_type": "execute_result"
    }
   ],
   "source": [
    "test_correlations"
   ]
  }
 ],
 "metadata": {
  "kernelspec": {
   "display_name": "base",
   "language": "python",
   "name": "python3"
  },
  "language_info": {
   "codemirror_mode": {
    "name": "ipython",
    "version": 3
   },
   "file_extension": ".py",
   "mimetype": "text/x-python",
   "name": "python",
   "nbconvert_exporter": "python",
   "pygments_lexer": "ipython3",
   "version": "3.10.10"
  }
 },
 "nbformat": 4,
 "nbformat_minor": 2
}
